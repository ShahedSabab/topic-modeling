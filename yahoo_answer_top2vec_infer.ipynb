{
 "cells": [
  {
   "cell_type": "markdown",
   "metadata": {
    "id": "eREpKzZGU4-R"
   },
   "source": [
    "# Install dependencies"
   ]
  },
  {
   "cell_type": "code",
   "execution_count": 24,
   "metadata": {
    "colab": {
     "base_uri": "https://localhost:8080/"
    },
    "id": "dNLayjT-UGbn",
    "outputId": "870f68ae-18a5-4d0e-9bc1-7e2d9d16cdbe"
   },
   "outputs": [
    {
     "name": "stdout",
     "output_type": "stream",
     "text": [
      "zsh:1: no matches found: top2vec[sentence_transformers]\n"
     ]
    }
   ],
   "source": [
    "# !pip install top2vec[sentence_encoders]\n",
    "# !pip install top2vec[sentence_transformers]"
   ]
  },
  {
   "cell_type": "markdown",
   "metadata": {
    "id": "BcnAjzB7V1MG"
   },
   "source": [
    "# Mount Drive"
   ]
  },
  {
   "cell_type": "code",
   "execution_count": 4,
   "metadata": {
    "colab": {
     "base_uri": "https://localhost:8080/"
    },
    "id": "0SMmgdZ9VLNk",
    "outputId": "319cd026-3ac9-4016-e87c-d8e2b173187f"
   },
   "outputs": [],
   "source": [
    "# from google.colab import drive\n",
    "# drive.mount('/content/gdrive')"
   ]
  },
  {
   "cell_type": "markdown",
   "metadata": {
    "id": "jhRTtLtAV71j"
   },
   "source": [
    "# Import"
   ]
  },
  {
   "cell_type": "code",
   "execution_count": 2,
   "metadata": {
    "id": "aPu-2ZPqV3Bo"
   },
   "outputs": [],
   "source": [
    "import pandas as pd\n",
    "import numpy as np\n",
    "import pickle\n",
    "from top2vec import Top2Vec\n",
    "import re\n"
   ]
  },
  {
   "cell_type": "markdown",
   "metadata": {
    "id": "I_RM6UNMWZyE"
   },
   "source": [
    "# Initialization"
   ]
  },
  {
   "cell_type": "code",
   "execution_count": 3,
   "metadata": {
    "id": "Jnqn5QKGWcZ6"
   },
   "outputs": [],
   "source": [
    "DATASET = 'Dataset-yahoo-answer'\n",
    "PATH = '/Users/shahedsabab/Documents/Topic Modeling/Data/'+DATASET+'/'\n",
    "TOPNWORDS = 20 # topic words\n",
    "EMBEDDING = 'bert'\n",
    "COLUMN_QS = 'paraphrase'\n",
    "COLUMN_ANS = 'parent_id'"
   ]
  },
  {
   "cell_type": "markdown",
   "metadata": {
    "id": "gAOIMmcAV_Uk"
   },
   "source": [
    "# Load model"
   ]
  },
  {
   "cell_type": "code",
   "execution_count": 18,
   "metadata": {
    "id": "S2fKhTKaV-gJ"
   },
   "outputs": [],
   "source": [
    "with open(PATH+'top2vec/saved/top2vec.model', 'rb') as file:\n",
    "    model = pickle.load(file)\n",
    "\n",
    "with open(PATH+'top2vec/saved/data.pkl', 'rb') as file:\n",
    "    df = pickle.load(file)\n",
    "\n",
    "topic_name = pd.read_pickle(PATH+'top2vec/saved/dictionary_topic_name.dict')"
   ]
  },
  {
   "cell_type": "code",
   "execution_count": 19,
   "metadata": {
    "colab": {
     "base_uri": "https://localhost:8080/",
     "height": 419
    },
    "id": "L-WOQQjFsw3r",
    "outputId": "5807658a-9e53-454c-84a9-a857758c6af7"
   },
   "outputs": [
    {
     "data": {
      "text/html": [
       "<div>\n",
       "<style scoped>\n",
       "    .dataframe tbody tr th:only-of-type {\n",
       "        vertical-align: middle;\n",
       "    }\n",
       "\n",
       "    .dataframe tbody tr th {\n",
       "        vertical-align: top;\n",
       "    }\n",
       "\n",
       "    .dataframe thead th {\n",
       "        text-align: right;\n",
       "    }\n",
       "</style>\n",
       "<table border=\"1\" class=\"dataframe\">\n",
       "  <thead>\n",
       "    <tr style=\"text-align: right;\">\n",
       "      <th></th>\n",
       "      <th>topic</th>\n",
       "      <th>title</th>\n",
       "      <th>question</th>\n",
       "      <th>answer</th>\n",
       "      <th>processed_answer</th>\n",
       "      <th>pred_topics</th>\n",
       "      <th>reduced_topic</th>\n",
       "      <th>reduced_topic_score</th>\n",
       "    </tr>\n",
       "  </thead>\n",
       "  <tbody>\n",
       "    <tr>\n",
       "      <th>0</th>\n",
       "      <td>9</td>\n",
       "      <td>What makes friendship click?</td>\n",
       "      <td>How does the spark keep going?</td>\n",
       "      <td>good communication is what does it.  Can you m...</td>\n",
       "      <td>good communication move beyond small talk say ...</td>\n",
       "      <td>16</td>\n",
       "      <td>0</td>\n",
       "      <td>0.542340</td>\n",
       "    </tr>\n",
       "    <tr>\n",
       "      <th>1</th>\n",
       "      <td>2</td>\n",
       "      <td>Why does Zebras have stripes?</td>\n",
       "      <td>What is the purpose or those stripes? Who do t...</td>\n",
       "      <td>this provides camouflage - predator vision is ...</td>\n",
       "      <td>provide camouflage predator vision usually dif...</td>\n",
       "      <td>41</td>\n",
       "      <td>2</td>\n",
       "      <td>0.258722</td>\n",
       "    </tr>\n",
       "    <tr>\n",
       "      <th>2</th>\n",
       "      <td>4</td>\n",
       "      <td>What did the itsy bitsy sipder climb up?</td>\n",
       "      <td>NaN</td>\n",
       "      <td>waterspout</td>\n",
       "      <td>waterspout</td>\n",
       "      <td>56</td>\n",
       "      <td>8</td>\n",
       "      <td>0.403495</td>\n",
       "    </tr>\n",
       "    <tr>\n",
       "      <th>3</th>\n",
       "      <td>4</td>\n",
       "      <td>What is the difference between a Bachelors and...</td>\n",
       "      <td>NaN</td>\n",
       "      <td>One difference between a Bachelors and a Maste...</td>\n",
       "      <td>one difference bachelor master degree requirem...</td>\n",
       "      <td>24</td>\n",
       "      <td>5</td>\n",
       "      <td>0.503336</td>\n",
       "    </tr>\n",
       "    <tr>\n",
       "      <th>4</th>\n",
       "      <td>3</td>\n",
       "      <td>Why do women get PMS?</td>\n",
       "      <td>NaN</td>\n",
       "      <td>Premenstrual syndrome (PMS) is a group of symp...</td>\n",
       "      <td>premenstrual syndrome pm group symptom relate ...</td>\n",
       "      <td>46</td>\n",
       "      <td>3</td>\n",
       "      <td>0.441360</td>\n",
       "    </tr>\n",
       "    <tr>\n",
       "      <th>...</th>\n",
       "      <td>...</td>\n",
       "      <td>...</td>\n",
       "      <td>...</td>\n",
       "      <td>...</td>\n",
       "      <td>...</td>\n",
       "      <td>...</td>\n",
       "      <td>...</td>\n",
       "      <td>...</td>\n",
       "    </tr>\n",
       "    <tr>\n",
       "      <th>59995</th>\n",
       "      <td>9</td>\n",
       "      <td>if you could be any fantasy figure, who would ...</td>\n",
       "      <td>NaN</td>\n",
       "      <td>The invisible man, I'd be straight into the gi...</td>\n",
       "      <td>invisible man straight girl change room</td>\n",
       "      <td>66</td>\n",
       "      <td>11</td>\n",
       "      <td>0.230436</td>\n",
       "    </tr>\n",
       "    <tr>\n",
       "      <th>59996</th>\n",
       "      <td>8</td>\n",
       "      <td>Tell me something about life most people don't...</td>\n",
       "      <td>Do you know anything about life, or words of w...</td>\n",
       "      <td>That there is a hell and everyone thinks their...</td>\n",
       "      <td>hell everyone think go world go dont turn god ...</td>\n",
       "      <td>0</td>\n",
       "      <td>15</td>\n",
       "      <td>0.462794</td>\n",
       "    </tr>\n",
       "    <tr>\n",
       "      <th>59997</th>\n",
       "      <td>3</td>\n",
       "      <td>Why are men always thinking of sex?</td>\n",
       "      <td>NaN</td>\n",
       "      <td>It's wired in our brain</td>\n",
       "      <td>wire brain</td>\n",
       "      <td>19</td>\n",
       "      <td>8</td>\n",
       "      <td>0.495684</td>\n",
       "    </tr>\n",
       "    <tr>\n",
       "      <th>59998</th>\n",
       "      <td>6</td>\n",
       "      <td>est ce que DOMENECH est un entraineur: 1: de f...</td>\n",
       "      <td>NaN</td>\n",
       "      <td>de foot mais pas pour être sélectionneur d'une...</td>\n",
       "      <td>de foot mais pa pour tre lectionneur une quipe...</td>\n",
       "      <td>218</td>\n",
       "      <td>6</td>\n",
       "      <td>0.399540</td>\n",
       "    </tr>\n",
       "    <tr>\n",
       "      <th>59999</th>\n",
       "      <td>5</td>\n",
       "      <td>No sound or low sound?</td>\n",
       "      <td>I have my volume turned up all the way and hav...</td>\n",
       "      <td>As an old techie, I tend to look at the hardwa...</td>\n",
       "      <td>old techie tend look hardware specifically con...</td>\n",
       "      <td>128</td>\n",
       "      <td>1</td>\n",
       "      <td>0.438117</td>\n",
       "    </tr>\n",
       "  </tbody>\n",
       "</table>\n",
       "<p>60000 rows × 8 columns</p>\n",
       "</div>"
      ],
      "text/plain": [
       "       topic                                              title  \\\n",
       "0          9                       What makes friendship click?   \n",
       "1          2                      Why does Zebras have stripes?   \n",
       "2          4           What did the itsy bitsy sipder climb up?   \n",
       "3          4  What is the difference between a Bachelors and...   \n",
       "4          3                              Why do women get PMS?   \n",
       "...      ...                                                ...   \n",
       "59995      9  if you could be any fantasy figure, who would ...   \n",
       "59996      8  Tell me something about life most people don't...   \n",
       "59997      3                Why are men always thinking of sex?   \n",
       "59998      6  est ce que DOMENECH est un entraineur: 1: de f...   \n",
       "59999      5                             No sound or low sound?   \n",
       "\n",
       "                                                question  \\\n",
       "0                         How does the spark keep going?   \n",
       "1      What is the purpose or those stripes? Who do t...   \n",
       "2                                                    NaN   \n",
       "3                                                    NaN   \n",
       "4                                                    NaN   \n",
       "...                                                  ...   \n",
       "59995                                                NaN   \n",
       "59996  Do you know anything about life, or words of w...   \n",
       "59997                                                NaN   \n",
       "59998                                                NaN   \n",
       "59999  I have my volume turned up all the way and hav...   \n",
       "\n",
       "                                                  answer  \\\n",
       "0      good communication is what does it.  Can you m...   \n",
       "1      this provides camouflage - predator vision is ...   \n",
       "2                                             waterspout   \n",
       "3      One difference between a Bachelors and a Maste...   \n",
       "4      Premenstrual syndrome (PMS) is a group of symp...   \n",
       "...                                                  ...   \n",
       "59995  The invisible man, I'd be straight into the gi...   \n",
       "59996  That there is a hell and everyone thinks their...   \n",
       "59997                            It's wired in our brain   \n",
       "59998  de foot mais pas pour être sélectionneur d'une...   \n",
       "59999  As an old techie, I tend to look at the hardwa...   \n",
       "\n",
       "                                        processed_answer  pred_topics  \\\n",
       "0      good communication move beyond small talk say ...           16   \n",
       "1      provide camouflage predator vision usually dif...           41   \n",
       "2                                             waterspout           56   \n",
       "3      one difference bachelor master degree requirem...           24   \n",
       "4      premenstrual syndrome pm group symptom relate ...           46   \n",
       "...                                                  ...          ...   \n",
       "59995            invisible man straight girl change room           66   \n",
       "59996  hell everyone think go world go dont turn god ...            0   \n",
       "59997                                         wire brain           19   \n",
       "59998  de foot mais pa pour tre lectionneur une quipe...          218   \n",
       "59999  old techie tend look hardware specifically con...          128   \n",
       "\n",
       "       reduced_topic  reduced_topic_score  \n",
       "0                  0             0.542340  \n",
       "1                  2             0.258722  \n",
       "2                  8             0.403495  \n",
       "3                  5             0.503336  \n",
       "4                  3             0.441360  \n",
       "...              ...                  ...  \n",
       "59995             11             0.230436  \n",
       "59996             15             0.462794  \n",
       "59997              8             0.495684  \n",
       "59998              6             0.399540  \n",
       "59999              1             0.438117  \n",
       "\n",
       "[60000 rows x 8 columns]"
      ]
     },
     "execution_count": 19,
     "metadata": {},
     "output_type": "execute_result"
    }
   ],
   "source": [
    "df = df.reset_index(drop=True)\n",
    "df"
   ]
  },
  {
   "cell_type": "markdown",
   "metadata": {
    "id": "ScfRhyYNWjBO"
   },
   "source": [
    "# Helper Functions"
   ]
  },
  {
   "cell_type": "code",
   "execution_count": 232,
   "metadata": {
    "id": "RZh0QcX9WiMm"
   },
   "outputs": [],
   "source": [
    "def infer_topics(text, topNwords, num_docs, reduced): \n",
    "    model.add_documents([text])\n",
    "    new_doc_id = len(model.documents) - 1\n",
    "    \n",
    "    if reduced: \n",
    "        result = model.get_documents_topics([new_doc_id], reduced = True)\n",
    "        topic_number = result[0][0]\n",
    "        word_list = model.topic_words_reduced[result[0][0]][:topNwords]\n",
    "        similar_docs = model.search_documents_by_documents([new_doc_id], num_docs)\n",
    "    else:\n",
    "        result = model.get_documents_topics([new_doc_id])\n",
    "        topic_number = result[0][0]\n",
    "        word_list = model.topic_words[result[0][0]][:topNwords]\n",
    "        similar_docs = model.search_documents_by_documents([new_doc_id],num_docs)\n",
    "    \n",
    "    model.delete_documents([new_doc_id])\n",
    "\n",
    "    return word_list, topic_number, similar_docs"
   ]
  },
  {
   "cell_type": "code",
   "execution_count": 233,
   "metadata": {
    "id": "-VliDUBEG8dS"
   },
   "outputs": [],
   "source": [
    "def add_docs(text):\n",
    "    model.add_documents([text])"
   ]
  },
  {
   "cell_type": "code",
   "execution_count": 234,
   "metadata": {},
   "outputs": [],
   "source": [
    "def search_for_topics(keywords, num_topics, reduced):\n",
    "    if reduced:\n",
    "        topic_words, word_scores, topic_scores, topic_nums = model.search_topics(keywords=keywords, num_topics=num_topics, reduced = True)\n",
    "    else:\n",
    "        topic_words, word_scores, topic_scores, topic_nums = model.search_topics(keywords=[ \"business\", \"finance\"], num_topics=num_topics)\n",
    "    \n",
    "    for n in topic_nums:\n",
    "        if topic_name[n] != '_':\n",
    "            print(topic_name[n])\n",
    "            break\n",
    "    \n",
    "    return topic_words, word_scores, topic_scores, topic_nums"
   ]
  },
  {
   "cell_type": "code",
   "execution_count": 235,
   "metadata": {},
   "outputs": [],
   "source": [
    "def search_for_documents_by_keywords(keywords, num_docs):\n",
    "    # this does not have any reduced parameter\n",
    "    documents, document_scores, document_ids = model.search_documents_by_keywords(keywords=keywords, num_docs=num_docs)\n",
    "    for doc, score, doc_id in zip(documents, document_scores, document_ids):\n",
    "        print(f\"Document: {doc_id}, Score: {score}\")\n",
    "        print(\"-----------\")\n",
    "        print(doc)\n",
    "        print(\"-----------\")\n",
    "        print()\n",
    "    return documents, document_scores, document_ids"
   ]
  },
  {
   "cell_type": "code",
   "execution_count": 236,
   "metadata": {},
   "outputs": [],
   "source": [
    "def search_for_keywords(keywords_pos, keywords_neg, num_words):\n",
    "    # this does not have any reduced parameter\n",
    "    words, word_scores = model.similar_words(keywords=keywords_pos, keywords_neg=keywords_neg, num_words=num_words)\n",
    "    for word, score in zip(words, word_scores):\n",
    "        print(f\"{word} {score}\")\n",
    "    return words, word_scores"
   ]
  },
  {
   "cell_type": "markdown",
   "metadata": {},
   "source": [
    "# Inference"
   ]
  },
  {
   "cell_type": "code",
   "execution_count": 254,
   "metadata": {
    "id": "ZMNkyo20WPTj"
   },
   "outputs": [],
   "source": [
    "text = r'''\n",
    "Applying to the College of Architecture\n",
    "Application Information\n",
    "Is there a separate application for each major in the College of Architecture?\n",
    "\n",
    "No, there is not a separate application for any of the majors. You need only apply through Apply Texas or the Coalition, and declare one of our majors. You will be given the option to select first and second choices. Please meet with our recruiter if you do not know what is the best second choice for your major.\n",
    "\n",
    "Do you accept second-choice majors?\n",
    "\n",
    "Yes, we do!\n",
    "\n",
    "How many students do you accept each year?\n",
    "\n",
    "Most of our programs, except for Construction Science, are enrollment managed. Our majors' entering class size varies depending on how many students we currently have taking that major.\n",
    "\n",
    "Do you require a portfolio to apply?\n",
    "\n",
    "No, we do not. As long as you meet the Office of Admissions standards, you may apply.\n",
    "\n",
    "Do you only admit in the fall?\n",
    "\n",
    "We consider applicants year-round, i.e. fall, spring, and summer. You will want to meet with an academic advisor for the program(s) you are interested in to discuss when it would be best to apply and if you are meeting the requirements.\n",
    "\n",
    "What classes should I take in high school to better my chances of acceptance?\n",
    "\n",
    "See the Office of Admission's website for recommended coursework for getting into Texas A&M.\n",
    "\n",
    "We also encourage our students to take courses in art, calculus, and physics to better prepare for our programs. Computer programming is highly encouraged for students who are interested in Visualization.\n",
    "\n",
    "'''"
   ]
  },
  {
   "cell_type": "code",
   "execution_count": 255,
   "metadata": {
    "colab": {
     "base_uri": "https://localhost:8080/",
     "height": 66,
     "referenced_widgets": [
      "94611e33a792449b887e6240c6e52fae",
      "84504e86367b425187383079aa127430",
      "72b5cb2d72384ed5ba8a283dec2c4efc",
      "333ff45a1db640d9b1ea4a08d404b87a",
      "b7c5c8d23d644b269cbdbf9c64a46b63",
      "9d68c2c463954469b45f7db055dd1828",
      "8fc1d97fec3f4b2abdeda46d7bcd47b9",
      "c399c366b3724c1c9fcb431fc5d5e8b0"
     ]
    },
    "id": "NCdQaoHvZMg3",
    "outputId": "e82cbda8-5317-42a4-a1fe-6a43da282170"
   },
   "outputs": [],
   "source": [
    "word_list, topic_number, similar_document = infer_topics(text, topNwords = TOPNWORDS, num_docs = 10, reduced = True)"
   ]
  },
  {
   "cell_type": "code",
   "execution_count": 256,
   "metadata": {
    "colab": {
     "base_uri": "https://localhost:8080/"
    },
    "id": "SN6DAQsltgVb",
    "outputId": "4bcaaa9b-1405-41d4-f9e7-cecd6a28754b"
   },
   "outputs": [
    {
     "data": {
      "text/plain": [
       "'education'"
      ]
     },
     "execution_count": 256,
     "metadata": {},
     "output_type": "execute_result"
    }
   ],
   "source": [
    "topic_name[topic_number]"
   ]
  },
  {
   "cell_type": "markdown",
   "metadata": {},
   "source": [
    "## Search for Topics by Keywords"
   ]
  },
  {
   "cell_type": "code",
   "execution_count": 269,
   "metadata": {},
   "outputs": [
    {
     "name": "stdout",
     "output_type": "stream",
     "text": [
      "business\n"
     ]
    }
   ],
   "source": [
    "topic_words, word_scores, topic_scores, topic_nums = search_for_topics(keywords = ['finance', 'stock', 'money'],num_topics = 10, reduced = True)"
   ]
  },
  {
   "cell_type": "markdown",
   "metadata": {},
   "source": [
    "## Search for related Documents by Keywords"
   ]
  },
  {
   "cell_type": "code",
   "execution_count": 258,
   "metadata": {},
   "outputs": [
    {
     "name": "stdout",
     "output_type": "stream",
     "text": [
      "Document: 47558, Score: 0.6208551320056442\n",
      "-----------\n",
      "find diabetic\n",
      "-----------\n",
      "\n",
      "Document: 34618, Score: 0.5543500313545708\n",
      "-----------\n",
      "parkland hospital\n",
      "-----------\n",
      "\n",
      "Document: 3598, Score: 0.5226587923810617\n",
      "-----------\n",
      "hospital room number\n",
      "-----------\n",
      "\n",
      "Document: 59177, Score: 0.5151669407515755\n",
      "-----------\n",
      "psychiatric hospital\n",
      "-----------\n",
      "\n",
      "Document: 32159, Score: 0.4562141878337995\n",
      "-----------\n",
      "virus deary\n",
      "-----------\n",
      "\n"
     ]
    }
   ],
   "source": [
    "documents, document_scores, document_ids = search_for_documents_by_keywords(keywords = ['hospital', 'diabetes'], num_docs = 5)"
   ]
  },
  {
   "cell_type": "code",
   "execution_count": 259,
   "metadata": {},
   "outputs": [
    {
     "data": {
      "text/plain": [
       "'If it is a psychiatric hospital it is!'"
      ]
     },
     "execution_count": 259,
     "metadata": {},
     "output_type": "execute_result"
    }
   ],
   "source": [
    "df.iloc[59177]['answer']"
   ]
  },
  {
   "cell_type": "markdown",
   "metadata": {},
   "source": [
    "# Search for similar keywords by keywords"
   ]
  },
  {
   "cell_type": "code",
   "execution_count": 270,
   "metadata": {},
   "outputs": [
    {
     "name": "stdout",
     "output_type": "stream",
     "text": [
      "healthy 0.6893834201415286\n",
      "fitness 0.582503345940204\n",
      "medical 0.5744456364324823\n",
      "illness 0.5594899883472886\n",
      "disease 0.5336805571374086\n",
      "nutrition 0.5271034051463707\n",
      "care 0.5244941710352499\n",
      "lifestyle 0.5131066954114256\n",
      "business 0.511849214834601\n",
      "food 0.5035717969279957\n"
     ]
    }
   ],
   "source": [
    "words, word_scores = search_for_keywords(keywords_pos = ['health'], keywords_neg=None, num_words=10)"
   ]
  },
  {
   "cell_type": "markdown",
   "metadata": {},
   "source": [
    "# Search for similar documents by documents"
   ]
  },
  {
   "cell_type": "code",
   "execution_count": 261,
   "metadata": {},
   "outputs": [],
   "source": [
    "document_text = '''\n",
    "what is computer\n",
    "'''"
   ]
  },
  {
   "cell_type": "code",
   "execution_count": 262,
   "metadata": {},
   "outputs": [],
   "source": [
    "word_list, topic_number, similar_document = infer_topics(document_text, topNwords = 10, num_docs = 10, reduced = True)"
   ]
  },
  {
   "cell_type": "code",
   "execution_count": 263,
   "metadata": {},
   "outputs": [
    {
     "data": {
      "text/plain": [
       "(array(['whats', 'whats', 'pcworld com computer', 'stand alone computer',\n",
       "        'whats question', 'vedeos whats', 'dont add computer calculater',\n",
       "        'describe homework',\n",
       "        'depend define word computer succession steadily powerful flexible compute device construct gradually add key feature modern computer use digital electronics invent claude shannon flexible programmability define one point along road first computer exceedingly difficult notable achievement include atanasoff berry computer special purpose machine use valve drive vacuum tube computation binary number regenerative memory secret british colossus computer limit programmability demonstrate device use thousand valve could make reliable reprogrammed electronically american eniac one first general purpose machine still use decimal system incorporate inflexible architecture mean reprogramming essentially require rewire konrad zuse z machine electromechanical z first work machine feature automatic binary arithmetic feasible programability',\n",
       "        'c est l amour quoi'], dtype=object),\n",
       " array([0.46307413, 0.46307413, 0.45326414, 0.44314572, 0.43621047,\n",
       "        0.42533051, 0.41100865, 0.39875045, 0.39649176, 0.39278812]),\n",
       " array([25627, 20996, 41031, 44581,  6038, 17653, 38523, 16013,  2795,\n",
       "        40380]))"
      ]
     },
     "execution_count": 263,
     "metadata": {},
     "output_type": "execute_result"
    }
   ],
   "source": [
    "similar_document"
   ]
  },
  {
   "cell_type": "code",
   "execution_count": null,
   "metadata": {},
   "outputs": [],
   "source": []
  },
  {
   "cell_type": "code",
   "execution_count": null,
   "metadata": {},
   "outputs": [],
   "source": []
  }
 ],
 "metadata": {
  "colab": {
   "collapsed_sections": [],
   "name": "yahoo_answer_top2vec_infer.ipynb",
   "provenance": []
  },
  "kernelspec": {
   "display_name": "topic-modeling-env",
   "language": "python",
   "name": "topic-modeling-env"
  },
  "language_info": {
   "codemirror_mode": {
    "name": "ipython",
    "version": 3
   },
   "file_extension": ".py",
   "mimetype": "text/x-python",
   "name": "python",
   "nbconvert_exporter": "python",
   "pygments_lexer": "ipython3",
   "version": "3.8.8"
  },
  "widgets": {
   "application/vnd.jupyter.widget-state+json": {
    "333ff45a1db640d9b1ea4a08d404b87a": {
     "model_module": "@jupyter-widgets/controls",
     "model_name": "HTMLModel",
     "state": {
      "_dom_classes": [],
      "_model_module": "@jupyter-widgets/controls",
      "_model_module_version": "1.5.0",
      "_model_name": "HTMLModel",
      "_view_count": null,
      "_view_module": "@jupyter-widgets/controls",
      "_view_module_version": "1.5.0",
      "_view_name": "HTMLView",
      "description": "",
      "description_tooltip": null,
      "layout": "IPY_MODEL_c399c366b3724c1c9fcb431fc5d5e8b0",
      "placeholder": "​",
      "style": "IPY_MODEL_8fc1d97fec3f4b2abdeda46d7bcd47b9",
      "value": " 504M/504M [00:32&lt;00:00, 15.4MB/s]"
     }
    },
    "72b5cb2d72384ed5ba8a283dec2c4efc": {
     "model_module": "@jupyter-widgets/controls",
     "model_name": "FloatProgressModel",
     "state": {
      "_dom_classes": [],
      "_model_module": "@jupyter-widgets/controls",
      "_model_module_version": "1.5.0",
      "_model_name": "FloatProgressModel",
      "_view_count": null,
      "_view_module": "@jupyter-widgets/controls",
      "_view_module_version": "1.5.0",
      "_view_name": "ProgressView",
      "bar_style": "success",
      "description": "100%",
      "description_tooltip": null,
      "layout": "IPY_MODEL_9d68c2c463954469b45f7db055dd1828",
      "max": 503702349,
      "min": 0,
      "orientation": "horizontal",
      "style": "IPY_MODEL_b7c5c8d23d644b269cbdbf9c64a46b63",
      "value": 503702349
     }
    },
    "84504e86367b425187383079aa127430": {
     "model_module": "@jupyter-widgets/base",
     "model_name": "LayoutModel",
     "state": {
      "_model_module": "@jupyter-widgets/base",
      "_model_module_version": "1.2.0",
      "_model_name": "LayoutModel",
      "_view_count": null,
      "_view_module": "@jupyter-widgets/base",
      "_view_module_version": "1.2.0",
      "_view_name": "LayoutView",
      "align_content": null,
      "align_items": null,
      "align_self": null,
      "border": null,
      "bottom": null,
      "display": null,
      "flex": null,
      "flex_flow": null,
      "grid_area": null,
      "grid_auto_columns": null,
      "grid_auto_flow": null,
      "grid_auto_rows": null,
      "grid_column": null,
      "grid_gap": null,
      "grid_row": null,
      "grid_template_areas": null,
      "grid_template_columns": null,
      "grid_template_rows": null,
      "height": null,
      "justify_content": null,
      "justify_items": null,
      "left": null,
      "margin": null,
      "max_height": null,
      "max_width": null,
      "min_height": null,
      "min_width": null,
      "object_fit": null,
      "object_position": null,
      "order": null,
      "overflow": null,
      "overflow_x": null,
      "overflow_y": null,
      "padding": null,
      "right": null,
      "top": null,
      "visibility": null,
      "width": null
     }
    },
    "8fc1d97fec3f4b2abdeda46d7bcd47b9": {
     "model_module": "@jupyter-widgets/controls",
     "model_name": "DescriptionStyleModel",
     "state": {
      "_model_module": "@jupyter-widgets/controls",
      "_model_module_version": "1.5.0",
      "_model_name": "DescriptionStyleModel",
      "_view_count": null,
      "_view_module": "@jupyter-widgets/base",
      "_view_module_version": "1.2.0",
      "_view_name": "StyleView",
      "description_width": ""
     }
    },
    "94611e33a792449b887e6240c6e52fae": {
     "model_module": "@jupyter-widgets/controls",
     "model_name": "HBoxModel",
     "state": {
      "_dom_classes": [],
      "_model_module": "@jupyter-widgets/controls",
      "_model_module_version": "1.5.0",
      "_model_name": "HBoxModel",
      "_view_count": null,
      "_view_module": "@jupyter-widgets/controls",
      "_view_module_version": "1.5.0",
      "_view_name": "HBoxView",
      "box_style": "",
      "children": [
       "IPY_MODEL_72b5cb2d72384ed5ba8a283dec2c4efc",
       "IPY_MODEL_333ff45a1db640d9b1ea4a08d404b87a"
      ],
      "layout": "IPY_MODEL_84504e86367b425187383079aa127430"
     }
    },
    "9d68c2c463954469b45f7db055dd1828": {
     "model_module": "@jupyter-widgets/base",
     "model_name": "LayoutModel",
     "state": {
      "_model_module": "@jupyter-widgets/base",
      "_model_module_version": "1.2.0",
      "_model_name": "LayoutModel",
      "_view_count": null,
      "_view_module": "@jupyter-widgets/base",
      "_view_module_version": "1.2.0",
      "_view_name": "LayoutView",
      "align_content": null,
      "align_items": null,
      "align_self": null,
      "border": null,
      "bottom": null,
      "display": null,
      "flex": null,
      "flex_flow": null,
      "grid_area": null,
      "grid_auto_columns": null,
      "grid_auto_flow": null,
      "grid_auto_rows": null,
      "grid_column": null,
      "grid_gap": null,
      "grid_row": null,
      "grid_template_areas": null,
      "grid_template_columns": null,
      "grid_template_rows": null,
      "height": null,
      "justify_content": null,
      "justify_items": null,
      "left": null,
      "margin": null,
      "max_height": null,
      "max_width": null,
      "min_height": null,
      "min_width": null,
      "object_fit": null,
      "object_position": null,
      "order": null,
      "overflow": null,
      "overflow_x": null,
      "overflow_y": null,
      "padding": null,
      "right": null,
      "top": null,
      "visibility": null,
      "width": null
     }
    },
    "b7c5c8d23d644b269cbdbf9c64a46b63": {
     "model_module": "@jupyter-widgets/controls",
     "model_name": "ProgressStyleModel",
     "state": {
      "_model_module": "@jupyter-widgets/controls",
      "_model_module_version": "1.5.0",
      "_model_name": "ProgressStyleModel",
      "_view_count": null,
      "_view_module": "@jupyter-widgets/base",
      "_view_module_version": "1.2.0",
      "_view_name": "StyleView",
      "bar_color": null,
      "description_width": "initial"
     }
    },
    "c399c366b3724c1c9fcb431fc5d5e8b0": {
     "model_module": "@jupyter-widgets/base",
     "model_name": "LayoutModel",
     "state": {
      "_model_module": "@jupyter-widgets/base",
      "_model_module_version": "1.2.0",
      "_model_name": "LayoutModel",
      "_view_count": null,
      "_view_module": "@jupyter-widgets/base",
      "_view_module_version": "1.2.0",
      "_view_name": "LayoutView",
      "align_content": null,
      "align_items": null,
      "align_self": null,
      "border": null,
      "bottom": null,
      "display": null,
      "flex": null,
      "flex_flow": null,
      "grid_area": null,
      "grid_auto_columns": null,
      "grid_auto_flow": null,
      "grid_auto_rows": null,
      "grid_column": null,
      "grid_gap": null,
      "grid_row": null,
      "grid_template_areas": null,
      "grid_template_columns": null,
      "grid_template_rows": null,
      "height": null,
      "justify_content": null,
      "justify_items": null,
      "left": null,
      "margin": null,
      "max_height": null,
      "max_width": null,
      "min_height": null,
      "min_width": null,
      "object_fit": null,
      "object_position": null,
      "order": null,
      "overflow": null,
      "overflow_x": null,
      "overflow_y": null,
      "padding": null,
      "right": null,
      "top": null,
      "visibility": null,
      "width": null
     }
    }
   }
  }
 },
 "nbformat": 4,
 "nbformat_minor": 4
}
