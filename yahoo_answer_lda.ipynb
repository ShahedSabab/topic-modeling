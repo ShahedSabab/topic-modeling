{
  "nbformat": 4,
  "nbformat_minor": 0,
  "metadata": {
    "colab": {
      "name": "yahoo_answer_lda.ipynb",
      "provenance": [],
      "collapsed_sections": [],
      "toc_visible": true
    },
    "kernelspec": {
      "name": "python3",
      "display_name": "Python 3"
    },
    "language_info": {
      "name": "python"
    }
  },
  "cells": [
    {
      "cell_type": "markdown",
      "metadata": {
        "id": "84rdhqrwAWYb"
      },
      "source": [
        "# Install dependency"
      ]
    },
    {
      "cell_type": "code",
      "metadata": {
        "colab": {
          "base_uri": "https://localhost:8080/"
        },
        "id": "7AnDzC6YM2x6",
        "outputId": "9c6a47cb-555a-4196-f971-41547370ce64"
      },
      "source": [
        "!pip install --upgrade gensim"
      ],
      "execution_count": null,
      "outputs": [
        {
          "output_type": "stream",
          "text": [
            "Requirement already up-to-date: gensim in /usr/local/lib/python3.7/dist-packages (4.0.1)\n",
            "Requirement already satisfied, skipping upgrade: smart-open>=1.8.1 in /usr/local/lib/python3.7/dist-packages (from gensim) (4.2.0)\n",
            "Requirement already satisfied, skipping upgrade: numpy>=1.11.3 in /usr/local/lib/python3.7/dist-packages (from gensim) (1.19.5)\n",
            "Requirement already satisfied, skipping upgrade: scipy>=0.18.1 in /usr/local/lib/python3.7/dist-packages (from gensim) (1.4.1)\n"
          ],
          "name": "stdout"
        }
      ]
    },
    {
      "cell_type": "markdown",
      "metadata": {
        "id": "ismK4hiYRDd4"
      },
      "source": [
        "# Mount Cloud for the dataset"
      ]
    },
    {
      "cell_type": "code",
      "metadata": {
        "colab": {
          "base_uri": "https://localhost:8080/"
        },
        "id": "C9AihWh4RHIi",
        "outputId": "4046c1f0-02fe-4934-b8bf-e6e3384a61c4"
      },
      "source": [
        "from google.colab import drive\n",
        "drive.mount('/content/gdrive')"
      ],
      "execution_count": null,
      "outputs": [
        {
          "output_type": "stream",
          "text": [
            "Drive already mounted at /content/gdrive; to attempt to forcibly remount, call drive.mount(\"/content/gdrive\", force_remount=True).\n"
          ],
          "name": "stdout"
        }
      ]
    },
    {
      "cell_type": "code",
      "metadata": {
        "id": "82k0iu9kRYuR",
        "colab": {
          "base_uri": "https://localhost:8080/"
        },
        "outputId": "2b5a5b4f-40b6-4dd5-ddd4-2b894d401fb7"
      },
      "source": [
        "!ls \"/content/gdrive/MyDrive/Dataset-yahoo-answer\""
      ],
      "execution_count": null,
      "outputs": [
        {
          "output_type": "stream",
          "text": [
            "classes.txt  lda  readme.txt  test.csv\ttop2vec  train.csv\n"
          ],
          "name": "stdout"
        }
      ]
    },
    {
      "cell_type": "markdown",
      "metadata": {
        "id": "IpEEc-MMNxBt"
      },
      "source": [
        "# Install Java\n"
      ]
    },
    {
      "cell_type": "code",
      "metadata": {
        "colab": {
          "base_uri": "https://localhost:8080/"
        },
        "id": "uWdgabB_Nops",
        "outputId": "0349eb05-12d3-4edf-91d4-fda25c592bce"
      },
      "source": [
        "import os       #importing os to set environment variable\n",
        "def install_java():\n",
        "  !apt-get install -y openjdk-8-jdk-headless -qq > /dev/null      #install openjdk\n",
        "  os.environ[\"JAVA_HOME\"] = \"/usr/lib/jvm/java-8-openjdk-amd64\"     #set environment variable\n",
        "  !java -version       #check java version\n",
        "install_java()"
      ],
      "execution_count": null,
      "outputs": [
        {
          "output_type": "stream",
          "text": [
            "openjdk version \"11.0.10\" 2021-01-19\n",
            "OpenJDK Runtime Environment (build 11.0.10+9-Ubuntu-0ubuntu1.18.04)\n",
            "OpenJDK 64-Bit Server VM (build 11.0.10+9-Ubuntu-0ubuntu1.18.04, mixed mode, sharing)\n"
          ],
          "name": "stdout"
        }
      ]
    },
    {
      "cell_type": "markdown",
      "metadata": {
        "id": "1aFgW6LUNzmS"
      },
      "source": [
        "# Download Mallet\n"
      ]
    },
    {
      "cell_type": "code",
      "metadata": {
        "colab": {
          "base_uri": "https://localhost:8080/"
        },
        "id": "iS5i6dliNtCv",
        "outputId": "8c0d517b-187a-45fb-ea23-9045e543f3d6"
      },
      "source": [
        "!wget http://mallet.cs.umass.edu/dist/mallet-2.0.8.zip\n",
        "!unzip mallet-2.0.8.zip"
      ],
      "execution_count": null,
      "outputs": [
        {
          "output_type": "stream",
          "text": [
            "--2021-04-08 19:27:41--  http://mallet.cs.umass.edu/dist/mallet-2.0.8.zip\n",
            "Resolving mallet.cs.umass.edu (mallet.cs.umass.edu)... 128.119.246.70\n",
            "Connecting to mallet.cs.umass.edu (mallet.cs.umass.edu)|128.119.246.70|:80... connected.\n",
            "HTTP request sent, awaiting response... 200 OK\n",
            "Length: 16184794 (15M) [application/zip]\n",
            "Saving to: ‘mallet-2.0.8.zip.2’\n",
            "\n",
            "mallet-2.0.8.zip.2  100%[===================>]  15.43M  17.7MB/s    in 0.9s    \n",
            "\n",
            "2021-04-08 19:27:42 (17.7 MB/s) - ‘mallet-2.0.8.zip.2’ saved [16184794/16184794]\n",
            "\n",
            "Archive:  mallet-2.0.8.zip\n",
            "replace mallet-2.0.8/bin/classifier2info? [y]es, [n]o, [A]ll, [N]one, [r]ename: N\n"
          ],
          "name": "stdout"
        }
      ]
    },
    {
      "cell_type": "markdown",
      "metadata": {
        "id": "5rREAURsaKih"
      },
      "source": [
        "# Initialization"
      ]
    },
    {
      "cell_type": "code",
      "metadata": {
        "id": "ssGfmmvzN2ec"
      },
      "source": [
        "import pandas as pd\n",
        "import nltk\n",
        "from nltk.stem import WordNetLemmatizer\n",
        "from nltk.tokenize import RegexpTokenizer\n",
        "from nltk.stem import WordNetLemmatizer\n",
        "from nltk.corpus import stopwords\n",
        "import gensim\n",
        "from gensim import corpora\n",
        "from gensim.models.wrappers.ldamallet import LdaMallet, malletmodel2ldamodel\n",
        "from gensim.models.coherencemodel import CoherenceModel\n",
        "from gensim.models.ldamodel import LdaModel\n",
        "import seaborn as sns\n",
        "from matplotlib import pyplot as plt\n",
        "import re\n",
        "import plotly.express as px\n",
        "# import pyLDAvis\n",
        "# import pyLDAvis.gensim\n",
        "from gensim.test.utils import datapath\n",
        "from wordcloud import WordCloud\n",
        "import numpy as np\n",
        "import pickle\n",
        "import warnings\n",
        "\n",
        "from pylab import rcParams\n",
        "import matplotlib.pyplot as plt\n",
        "from matplotlib.ticker import MaxNLocator\n",
        "from matplotlib import rc\n",
        "\n",
        "\n",
        "warnings.filterwarnings('ignore')\n",
        "nltk.download('stopwords')\n",
        "nltk.download('wordnet')"
      ],
      "execution_count": null,
      "outputs": []
    },
    {
      "cell_type": "code",
      "metadata": {
        "id": "uX3z_Bmt5-R4"
      },
      "source": [
        "NUM_ITERATIONS = 2000\n",
        "MAX_K = 40\n",
        "RANDOM_SEED = 42\n",
        "MIN_TOKEN = 5\n",
        "\n",
        "%matplotlib inline\n",
        "%config InlineBackend.figure_format = 'retina'\n",
        "\n",
        "np.random.seed(RANDOM_SEED)\n",
        "rcParams['figure.figsize'] = 12,8\n",
        "\n",
        "PATH = '/content/gdrive/MyDrive/Dataset-yahoo-answer/'"
      ],
      "execution_count": null,
      "outputs": []
    },
    {
      "cell_type": "markdown",
      "metadata": {
        "id": "zqQqMEAPcmNv"
      },
      "source": [
        "# Set Mallet Path"
      ]
    },
    {
      "cell_type": "code",
      "metadata": {
        "id": "0P2m_Q7QcpTf"
      },
      "source": [
        "os.environ['MALLET_HOME'] = '/content/mallet-2.0.8'\n",
        "mallet_path = '/content/mallet-2.0.8/bin/mallet' # you should NOT need to change this "
      ],
      "execution_count": null,
      "outputs": []
    },
    {
      "cell_type": "markdown",
      "metadata": {
        "id": "k65vyG4ccjXs"
      },
      "source": [
        "#Read Data"
      ]
    },
    {
      "cell_type": "code",
      "metadata": {
        "id": "rLoGLOgyaSuW"
      },
      "source": [
        "df_train = pd.read_csv('/content/gdrive/MyDrive/Dataset-yahoo-answer/test.csv', header=None ,names=['topic', 'title', 'question', 'answer'])"
      ],
      "execution_count": null,
      "outputs": []
    },
    {
      "cell_type": "code",
      "metadata": {
        "colab": {
          "base_uri": "https://localhost:8080/",
          "height": 359
        },
        "id": "vPDX-q7NaseU",
        "outputId": "9fa450b3-5216-459e-d03c-6d9f770c91b2"
      },
      "source": [
        "df_train.tail(10)"
      ],
      "execution_count": null,
      "outputs": [
        {
          "output_type": "execute_result",
          "data": {
            "text/html": [
              "<div>\n",
              "<style scoped>\n",
              "    .dataframe tbody tr th:only-of-type {\n",
              "        vertical-align: middle;\n",
              "    }\n",
              "\n",
              "    .dataframe tbody tr th {\n",
              "        vertical-align: top;\n",
              "    }\n",
              "\n",
              "    .dataframe thead th {\n",
              "        text-align: right;\n",
              "    }\n",
              "</style>\n",
              "<table border=\"1\" class=\"dataframe\">\n",
              "  <thead>\n",
              "    <tr style=\"text-align: right;\">\n",
              "      <th></th>\n",
              "      <th>topic</th>\n",
              "      <th>title</th>\n",
              "      <th>question</th>\n",
              "      <th>answer</th>\n",
              "    </tr>\n",
              "  </thead>\n",
              "  <tbody>\n",
              "    <tr>\n",
              "      <th>59990</th>\n",
              "      <td>1</td>\n",
              "      <td>Is Adam in heaven or hell for commiting origin...</td>\n",
              "      <td>NaN</td>\n",
              "      <td>First Adam may not even be a real name but a r...</td>\n",
              "    </tr>\n",
              "    <tr>\n",
              "      <th>59991</th>\n",
              "      <td>10</td>\n",
              "      <td>Why do the conservatives want us to stay and p...</td>\n",
              "      <td>Cant they see we will just keep losing troops....</td>\n",
              "      <td>George Bush illegally and unconstitutionally i...</td>\n",
              "    </tr>\n",
              "    <tr>\n",
              "      <th>59992</th>\n",
              "      <td>6</td>\n",
              "      <td>Who else thinks that ref(uru) should be reprim...</td>\n",
              "      <td>Can you believe that guy???? Red card, red car...</td>\n",
              "      <td>What about the obvious handball?  The ref shou...</td>\n",
              "    </tr>\n",
              "    <tr>\n",
              "      <th>59993</th>\n",
              "      <td>10</td>\n",
              "      <td>first black president of the united states?</td>\n",
              "      <td>NaN</td>\n",
              "      <td>Gerald,\\n\\nThat's easy.  You!</td>\n",
              "    </tr>\n",
              "    <tr>\n",
              "      <th>59994</th>\n",
              "      <td>9</td>\n",
              "      <td>guys only pleez?</td>\n",
              "      <td>is their anyone out their 4 me who are 13to15 ...</td>\n",
              "      <td>omg i love that in a girrl\\nim not looking for...</td>\n",
              "    </tr>\n",
              "    <tr>\n",
              "      <th>59995</th>\n",
              "      <td>9</td>\n",
              "      <td>if you could be any fantasy figure, who would ...</td>\n",
              "      <td>NaN</td>\n",
              "      <td>The invisible man, I'd be straight into the gi...</td>\n",
              "    </tr>\n",
              "    <tr>\n",
              "      <th>59996</th>\n",
              "      <td>8</td>\n",
              "      <td>Tell me something about life most people don't...</td>\n",
              "      <td>Do you know anything about life, or words of w...</td>\n",
              "      <td>That there is a hell and everyone thinks their...</td>\n",
              "    </tr>\n",
              "    <tr>\n",
              "      <th>59997</th>\n",
              "      <td>3</td>\n",
              "      <td>Why are men always thinking of sex?</td>\n",
              "      <td>NaN</td>\n",
              "      <td>It's wired in our brain</td>\n",
              "    </tr>\n",
              "    <tr>\n",
              "      <th>59998</th>\n",
              "      <td>6</td>\n",
              "      <td>est ce que DOMENECH est un entraineur: 1: de f...</td>\n",
              "      <td>NaN</td>\n",
              "      <td>de foot mais pas pour être sélectionneur d'une...</td>\n",
              "    </tr>\n",
              "    <tr>\n",
              "      <th>59999</th>\n",
              "      <td>5</td>\n",
              "      <td>No sound or low sound?</td>\n",
              "      <td>I have my volume turned up all the way and hav...</td>\n",
              "      <td>As an old techie, I tend to look at the hardwa...</td>\n",
              "    </tr>\n",
              "  </tbody>\n",
              "</table>\n",
              "</div>"
            ],
            "text/plain": [
              "       topic                                              title  \\\n",
              "59990      1  Is Adam in heaven or hell for commiting origin...   \n",
              "59991     10  Why do the conservatives want us to stay and p...   \n",
              "59992      6  Who else thinks that ref(uru) should be reprim...   \n",
              "59993     10        first black president of the united states?   \n",
              "59994      9                                   guys only pleez?   \n",
              "59995      9  if you could be any fantasy figure, who would ...   \n",
              "59996      8  Tell me something about life most people don't...   \n",
              "59997      3                Why are men always thinking of sex?   \n",
              "59998      6  est ce que DOMENECH est un entraineur: 1: de f...   \n",
              "59999      5                             No sound or low sound?   \n",
              "\n",
              "                                                question  \\\n",
              "59990                                                NaN   \n",
              "59991  Cant they see we will just keep losing troops....   \n",
              "59992  Can you believe that guy???? Red card, red car...   \n",
              "59993                                                NaN   \n",
              "59994  is their anyone out their 4 me who are 13to15 ...   \n",
              "59995                                                NaN   \n",
              "59996  Do you know anything about life, or words of w...   \n",
              "59997                                                NaN   \n",
              "59998                                                NaN   \n",
              "59999  I have my volume turned up all the way and hav...   \n",
              "\n",
              "                                                  answer  \n",
              "59990  First Adam may not even be a real name but a r...  \n",
              "59991  George Bush illegally and unconstitutionally i...  \n",
              "59992  What about the obvious handball?  The ref shou...  \n",
              "59993                      Gerald,\\n\\nThat's easy.  You!  \n",
              "59994  omg i love that in a girrl\\nim not looking for...  \n",
              "59995  The invisible man, I'd be straight into the gi...  \n",
              "59996  That there is a hell and everyone thinks their...  \n",
              "59997                            It's wired in our brain  \n",
              "59998  de foot mais pas pour être sélectionneur d'une...  \n",
              "59999  As an old techie, I tend to look at the hardwa...  "
            ]
          },
          "metadata": {
            "tags": []
          },
          "execution_count": 25
        }
      ]
    },
    {
      "cell_type": "code",
      "metadata": {
        "colab": {
          "base_uri": "https://localhost:8080/"
        },
        "id": "97XL3PEObh8c",
        "outputId": "b89e3823-32a3-4be5-c44d-e441ebc8e731"
      },
      "source": [
        "df_train.shape"
      ],
      "execution_count": null,
      "outputs": [
        {
          "output_type": "execute_result",
          "data": {
            "text/plain": [
              "(60000, 4)"
            ]
          },
          "metadata": {
            "tags": []
          },
          "execution_count": 19
        }
      ]
    },
    {
      "cell_type": "code",
      "metadata": {
        "id": "kpvHk3Mf94-Z"
      },
      "source": [
        "df_train.to_csv('new.csv')"
      ],
      "execution_count": null,
      "outputs": []
    },
    {
      "cell_type": "markdown",
      "metadata": {
        "id": "G7ICaLlf0TTV"
      },
      "source": [
        "# Check Distribution"
      ]
    },
    {
      "cell_type": "code",
      "metadata": {
        "colab": {
          "base_uri": "https://localhost:8080/",
          "height": 528
        },
        "id": "5_gsJVrW0XPI",
        "outputId": "919117e2-bca1-4a70-e083-f171f258572b"
      },
      "source": [
        "chart = sns.countplot(df_train.topic)\n",
        "plt.title(\"Number of instances per topic\")"
      ],
      "execution_count": null,
      "outputs": [
        {
          "output_type": "execute_result",
          "data": {
            "text/plain": [
              "Text(0.5, 1.0, 'Number of instances per topic')"
            ]
          },
          "metadata": {
            "tags": []
          },
          "execution_count": 13
        },
        {
          "output_type": "display_data",
          "data": {
            "image/png": "[encoded data removed]",
            "text/plain": [
              "<Figure size 864x576 with 1 Axes>"
            ]
          },
          "metadata": {
            "tags": [],
            "image/png": {
              "width": 730,
              "height": 494
            },
            "needs_background": "light"
          }
        }
      ]
    },
    {
      "cell_type": "markdown",
      "metadata": {
        "id": "G1B4WjhJ0Rrd"
      },
      "source": [
        "# Preprocess"
      ]
    },
    {
      "cell_type": "code",
      "metadata": {
        "id": "FICqdeL_kg3h"
      },
      "source": [
        "def preprocess_tokenize(s):\n",
        "    '''\n",
        "    This function takes a string as an input and then preprocess the string.\n",
        "    The preprocessing involves  \n",
        "        1. removing html tags\n",
        "        2. removing hyperlinks \n",
        "        3. removing \\n\n",
        "        4. making all letters lower-case\n",
        "        5. removing all punctuations, special characters and digits\n",
        "        6. tokenization \n",
        "        7. lemmatization\n",
        "    Inputs:\n",
        "        s: s is a string\n",
        "    returns:\n",
        "        tokenized version of input s. s is a list\n",
        "    '''\n",
        "    stop_words = set(stopwords.words('english'))\n",
        "    lemmatizer = WordNetLemmatizer()\n",
        "    tokenizer = RegexpTokenizer(r'[a-zA-Z]+')\n",
        "    \n",
        "    cleanr = re.compile('<.*?>')\n",
        "    s = re.sub(cleanr, '', s)      #removing html tags         \n",
        "    s = re.sub(r\"http\\S+\", \"\", s)  #removing hyper link\n",
        "    s = re.sub(r\"www\\S+\", \"\", s)   #removing hyper link\n",
        "    s = re.sub(r\"\\\\n\", \"\", s)      #removing \\n \n",
        "    s = s.lower()  \n",
        "    s = tokenizer.tokenize(s)   #tokenizing sentence\n",
        "    \n",
        "    processed_string = []\n",
        "    for word in s:\n",
        "        if word not in stop_words:                  #removing stopwords\n",
        "            word = lemmatizer.lemmatize(word, 'v')  #converting a word to verb\n",
        "            word = lemmatizer.lemmatize(word, 'n')  #converting a word to noun\n",
        "            word = lemmatizer.lemmatize(word, 'a')  #converting a word to adjective\n",
        "\n",
        "            processed_string.append(word)\n",
        "            \n",
        "    return processed_string\n",
        "            "
      ],
      "execution_count": null,
      "outputs": []
    },
    {
      "cell_type": "code",
      "metadata": {
        "id": "W7z7iqVpm8kr"
      },
      "source": [
        "df_train['processed_answer'] = df_train.answer.apply(lambda x: preprocess_tokenize(str(x)))"
      ],
      "execution_count": null,
      "outputs": []
    },
    {
      "cell_type": "code",
      "metadata": {
        "colab": {
          "base_uri": "https://localhost:8080/",
          "height": 204
        },
        "id": "8dmLtX5Okhkx",
        "outputId": "65a80e8c-20b2-4abc-abde-a4d5b7a91a09"
      },
      "source": [
        "df_train.head()"
      ],
      "execution_count": null,
      "outputs": [
        {
          "output_type": "execute_result",
          "data": {
            "text/html": [
              "<div>\n",
              "<style scoped>\n",
              "    .dataframe tbody tr th:only-of-type {\n",
              "        vertical-align: middle;\n",
              "    }\n",
              "\n",
              "    .dataframe tbody tr th {\n",
              "        vertical-align: top;\n",
              "    }\n",
              "\n",
              "    .dataframe thead th {\n",
              "        text-align: right;\n",
              "    }\n",
              "</style>\n",
              "<table border=\"1\" class=\"dataframe\">\n",
              "  <thead>\n",
              "    <tr style=\"text-align: right;\">\n",
              "      <th></th>\n",
              "      <th>topic</th>\n",
              "      <th>title</th>\n",
              "      <th>question</th>\n",
              "      <th>answer</th>\n",
              "      <th>processed_answer</th>\n",
              "    </tr>\n",
              "  </thead>\n",
              "  <tbody>\n",
              "    <tr>\n",
              "      <th>0</th>\n",
              "      <td>9</td>\n",
              "      <td>What makes friendship click?</td>\n",
              "      <td>How does the spark keep going?</td>\n",
              "      <td>good communication is what does it.  Can you m...</td>\n",
              "      <td>[good, communication, move, beyond, small, tal...</td>\n",
              "    </tr>\n",
              "    <tr>\n",
              "      <th>1</th>\n",
              "      <td>2</td>\n",
              "      <td>Why does Zebras have stripes?</td>\n",
              "      <td>What is the purpose or those stripes? Who do t...</td>\n",
              "      <td>this provides camouflage - predator vision is ...</td>\n",
              "      <td>[provide, camouflage, predator, vision, usuall...</td>\n",
              "    </tr>\n",
              "    <tr>\n",
              "      <th>2</th>\n",
              "      <td>4</td>\n",
              "      <td>What did the itsy bitsy sipder climb up?</td>\n",
              "      <td>NaN</td>\n",
              "      <td>waterspout</td>\n",
              "      <td>[waterspout]</td>\n",
              "    </tr>\n",
              "    <tr>\n",
              "      <th>3</th>\n",
              "      <td>4</td>\n",
              "      <td>What is the difference between a Bachelors and...</td>\n",
              "      <td>NaN</td>\n",
              "      <td>One difference between a Bachelors and a Maste...</td>\n",
              "      <td>[one, difference, bachelor, master, degree, re...</td>\n",
              "    </tr>\n",
              "    <tr>\n",
              "      <th>4</th>\n",
              "      <td>3</td>\n",
              "      <td>Why do women get PMS?</td>\n",
              "      <td>NaN</td>\n",
              "      <td>Premenstrual syndrome (PMS) is a group of symp...</td>\n",
              "      <td>[premenstrual, syndrome, pm, group, symptom, r...</td>\n",
              "    </tr>\n",
              "  </tbody>\n",
              "</table>\n",
              "</div>"
            ],
            "text/plain": [
              "   topic  ...                                   processed_answer\n",
              "0      9  ...  [good, communication, move, beyond, small, tal...\n",
              "1      2  ...  [provide, camouflage, predator, vision, usuall...\n",
              "2      4  ...                                       [waterspout]\n",
              "3      4  ...  [one, difference, bachelor, master, degree, re...\n",
              "4      3  ...  [premenstrual, syndrome, pm, group, symptom, r...\n",
              "\n",
              "[5 rows x 5 columns]"
            ]
          },
          "metadata": {
            "tags": []
          },
          "execution_count": 16
        }
      ]
    },
    {
      "cell_type": "code",
      "metadata": {
        "colab": {
          "base_uri": "https://localhost:8080/"
        },
        "id": "8wHzhoME0_TG",
        "outputId": "af1f8ce0-b78f-4c42-e473-8f1d447baf54"
      },
      "source": [
        "df_train['processed_answer'].apply(len)"
      ],
      "execution_count": null,
      "outputs": [
        {
          "output_type": "execute_result",
          "data": {
            "text/plain": [
              "0        20\n",
              "1         9\n",
              "2         1\n",
              "3        76\n",
              "4        45\n",
              "         ..\n",
              "59995     6\n",
              "59996    13\n",
              "59997     2\n",
              "59998    22\n",
              "59999    55\n",
              "Name: processed_answer, Length: 60000, dtype: int64"
            ]
          },
          "metadata": {
            "tags": []
          },
          "execution_count": 17
        }
      ]
    },
    {
      "cell_type": "code",
      "metadata": {
        "id": "lpt0K11koc3e",
        "colab": {
          "base_uri": "https://localhost:8080/",
          "height": 533
        },
        "outputId": "896c60d6-ecc8-42e6-8530-cb7eb5ce72d5"
      },
      "source": [
        "df_train['processed_length'] = df_train['processed_answer'].apply(len)\n",
        "bins = 5\n",
        "plt.hist(df_train['processed_length'], alpha = 0.6, bins=bins)"
      ],
      "execution_count": null,
      "outputs": [
        {
          "output_type": "execute_result",
          "data": {
            "text/plain": [
              "(array([5.8056e+04, 1.4120e+03, 5.2000e+02, 1.0000e+01, 2.0000e+00]),\n",
              " array([  0. , 136.8, 273.6, 410.4, 547.2, 684. ]),\n",
              " <a list of 5 Patch objects>)"
            ]
          },
          "metadata": {
            "tags": []
          },
          "execution_count": 18
        },
        {
          "output_type": "display_data",
          "data": {
            "image/png": "[encoded data removed]",
            "text/plain": [
              "<Figure size 864x576 with 1 Axes>"
            ]
          },
          "metadata": {
            "tags": [],
            "image/png": {
              "width": 723,
              "height": 465
            },
            "needs_background": "light"
          }
        }
      ]
    },
    {
      "cell_type": "code",
      "metadata": {
        "id": "3emC_TQiz-_r"
      },
      "source": [
        "# corpus will have documents with at least 5 tokens \n",
        "processed_texts = df_train[df_train['processed_length']>MIN_TOKEN].processed_answer"
      ],
      "execution_count": null,
      "outputs": []
    },
    {
      "cell_type": "code",
      "metadata": {
        "id": "zZAsUMvMUwNG"
      },
      "source": [
        "df_processed_data = df_train[df_train['processed_length']>MIN_TOKEN]"
      ],
      "execution_count": null,
      "outputs": []
    },
    {
      "cell_type": "markdown",
      "metadata": {
        "id": "KLEfdasY3u9E"
      },
      "source": [
        "# Create corpus"
      ]
    },
    {
      "cell_type": "code",
      "metadata": {
        "id": "cT5ZkoUZ4UNq"
      },
      "source": [
        "def create_bow(dictionary, texts):\n",
        "    '''\n",
        "    This function takes two inputs a dictionary and a list of tokenized documents \n",
        "    and creates a corpus. Each lists in the corpus represents a document where\n",
        "    each tuple inside a list is the id of the word in the document and its count.\n",
        "    \n",
        "    Inputs:\n",
        "        dictionary: a gensim dictionary where the key is the word and value is the \n",
        "        corresponding id\n",
        "        \n",
        "        texts: a list of documents where each document is tokenized\n",
        "    \n",
        "    returns:\n",
        "        corpus\n",
        "    '''\n",
        "    corpus = [dictionary.doc2bow(text) for text in texts]\n",
        "    return corpus\n",
        "    "
      ],
      "execution_count": null,
      "outputs": []
    },
    {
      "cell_type": "code",
      "metadata": {
        "id": "UIbmeOMN16B9"
      },
      "source": [
        "def create_dictionary_corpus(texts):\n",
        "    '''\n",
        "    This function takes a list of tokenized documents as inputs and \n",
        "    return a dictionary and corpus.\n",
        "    \n",
        "    Inputs:\n",
        "        texts: a list of tokenized documents\n",
        "        \n",
        "    returns:\n",
        "        dictionary: a gensim dictionary where the key is the id and value is the \n",
        "        corresponding word\n",
        "        \n",
        "        corpus: gensim corpus\n",
        "    '''\n",
        "    dictionary = corpora.Dictionary(texts)\n",
        "    dictionary.filter_extremes(no_below=5, no_above=0.5)\n",
        "    corpus = create_bow(dictionary, texts)\n",
        "    return dictionary, corpus"
      ],
      "execution_count": null,
      "outputs": []
    },
    {
      "cell_type": "code",
      "metadata": {
        "id": "-pJt2CEF34Zb"
      },
      "source": [
        "dictionary, corpus = create_dictionary_corpus(processed_texts)"
      ],
      "execution_count": null,
      "outputs": []
    },
    {
      "cell_type": "markdown",
      "metadata": {
        "id": "wN3b3HgT5qDP"
      },
      "source": [
        "# Model generation"
      ]
    },
    {
      "cell_type": "code",
      "metadata": {
        "id": "o7Ebtq4o4L6B"
      },
      "source": [
        "def find_best_lda_model(max_k, corpus, dictionary, texts):\n",
        "    '''\n",
        "    This function takes four parameters as inputs and find best lda model\n",
        "    \n",
        "    Inputs:\n",
        "        max_k: an interger which indicates maximum number of topics to evaluate. \n",
        "        max_k should be >=10. The function starts with 10 topics and the increment is 10. \n",
        "        For example, If max_k = 30, it will calculate best_ k for 10, 20, and 30 topics\n",
        "        \n",
        "        corpus: gensim corpus\n",
        "        \n",
        "        dictionary: gensim dictionary of texts\n",
        "        \n",
        "        texts: a list of tokenized documents\n",
        "        \n",
        "    returns:\n",
        "        best_lda_model: best mallet lda model based on coherence score\n",
        "        \n",
        "        best_k: an integer of number of topics for best lda model\n",
        "        \n",
        "        all_k: a list of all the values of number of topics that is used to find the best_k\n",
        "        \n",
        "    '''\n",
        "    \n",
        "    all_k = []\n",
        "    coherence_scores = []\n",
        "    best_lda_model = ''\n",
        "    best_coherence = -1\n",
        "    best_k = 0\n",
        "    \n",
        "    for k in range(10, max_k+1, 10):\n",
        "        # running lda model for a specific k\n",
        "        lda_model = LdaMallet(mallet_path, corpus = corpus, id2word= dictionary, \n",
        "                        num_topics = k, iterations = NUM_ITERATIONS,  random_seed=RANDOM_SEED)\n",
        "        \n",
        "        #getting coherence score  for lda_model\n",
        "        coherence_model = CoherenceModel(model = lda_model, corpus = corpus, \n",
        "                                 coherence = 'c_v', texts = texts, dictionary = dictionary)\n",
        "        coherence_score = coherence_model.get_coherence()\n",
        "        \n",
        "        \n",
        "        #saving best model\n",
        "        if coherence_score > best_coherence:\n",
        "            best_coherence = coherence_score\n",
        "            best_lda_model = lda_model\n",
        "            best_k = k\n",
        "            \n",
        "        coherence_scores.append(coherence_score)\n",
        "        all_k.append(k)\n",
        "    \n",
        "    return best_lda_model, best_k, all_k, coherence_scores"
      ],
      "execution_count": null,
      "outputs": []
    },
    {
      "cell_type": "code",
      "metadata": {
        "id": "KADGZZoD7x1Z"
      },
      "source": [
        "def plot_topic_coherence(all_k, coherences):\n",
        "    '''\n",
        "    Given all topics and corresponding coherence scores, this function\n",
        "    plots topic vs coherence score plot\n",
        "    \n",
        "    Inputs:\n",
        "        all_k: a list of topic number the cohernce score is calculated for\n",
        "        \n",
        "        coherences: a list of coherence scores of corresponding topic numbers. The\n",
        "        len should be equal to all_k\n",
        "    \n",
        "    Returns: None  \n",
        "    \n",
        "    Display:\n",
        "        topic vs coherence plot\n",
        "    '''\n",
        "    \n",
        "    df = pd.DataFrame({\n",
        "        'k': all_k,\n",
        "        'coherence': coherences\n",
        "    })\n",
        "    \n",
        "    fig = px.line(df, x= 'k', y= 'coherence')\n",
        "    # fig.write_html('./lda/topicsvscoherence.html')\n",
        "    fig.show()"
      ],
      "execution_count": null,
      "outputs": []
    },
    {
      "cell_type": "code",
      "metadata": {
        "id": "yHX7Gkcc4YwZ"
      },
      "source": [
        "mallet_lda_model, best_k, all_k, coherence_scores = find_best_lda_model(MAX_K,  corpus, dictionary, processed_texts)"
      ],
      "execution_count": null,
      "outputs": []
    },
    {
      "cell_type": "code",
      "metadata": {
        "id": "A0F6qSnL7zPi",
        "colab": {
          "base_uri": "https://localhost:8080/",
          "height": 542
        },
        "outputId": "df3763d8-5f3d-4dc7-c8c8-985a37db598a"
      },
      "source": [
        "plot_topic_coherence(all_k, coherence_scores)"
      ],
      "execution_count": null,
      "outputs": [
        {
          "output_type": "display_data",
          "data": {
            "text/html": [
              "<html>\n",
              "<head><meta charset=\"utf-8\" /></head>\n",
              "<body>\n",
              "    <div>\n",
              "            <script src=\"https://cdnjs.cloudflare.com/ajax/libs/mathjax/2.7.5/MathJax.js?config=TeX-AMS-MML_SVG\"></script><script type=\"text/javascript\">if (window.MathJax) {MathJax.Hub.Config({SVG: {font: \"STIX-Web\"}});}</script>\n",
              "                <script type=\"text/javascript\">window.PlotlyConfig = {MathJaxConfig: 'local'};</script>\n",
              "        <script src=\"https://cdn.plot.ly/plotly-latest.min.js\"></script>    \n",
              "            <div id=\"529e375c-b20b-421a-a86b-247a19604911\" class=\"plotly-graph-div\" style=\"height:525px; width:100%;\"></div>\n",
              "            <script type=\"text/javascript\">\n",
              "                \n",
              "                    window.PLOTLYENV=window.PLOTLYENV || {};\n",
              "                    \n",
              "                if (document.getElementById(\"529e375c-b20b-421a-a86b-247a19604911\")) {\n",
              "                    Plotly.newPlot(\n",
              "                        '529e375c-b20b-421a-a86b-247a19604911',\n",
              "                        [{\"hoverlabel\": {\"namelength\": 0}, \"hovertemplate\": \"k=%{x}<br>coherence=%{y}\", \"legendgroup\": \"\", \"line\": {\"color\": \"#636efa\", \"dash\": \"solid\"}, \"mode\": \"lines\", \"name\": \"\", \"showlegend\": false, \"type\": \"scatter\", \"x\": [10, 20, 30, 40], \"xaxis\": \"x\", \"y\": [0.558154001021607, 0.590936627274387, 0.5857619017327858, 0.5870307377261945], \"yaxis\": \"y\"}],\n",
              "                        {\"legend\": {\"tracegroupgap\": 0}, \"margin\": {\"t\": 60}, \"template\": {\"data\": {\"bar\": [{\"error_x\": {\"color\": \"#2a3f5f\"}, \"error_y\": {\"color\": \"#2a3f5f\"}, \"marker\": {\"line\": {\"color\": \"#E5ECF6\", \"width\": 0.5}}, \"type\": \"bar\"}], \"barpolar\": [{\"marker\": {\"line\": {\"color\": \"#E5ECF6\", \"width\": 0.5}}, \"type\": \"barpolar\"}], \"carpet\": [{\"aaxis\": {\"endlinecolor\": \"#2a3f5f\", \"gridcolor\": \"white\", \"linecolor\": \"white\", \"minorgridcolor\": \"white\", \"startlinecolor\": \"#2a3f5f\"}, \"baxis\": {\"endlinecolor\": \"#2a3f5f\", \"gridcolor\": \"white\", \"linecolor\": \"white\", \"minorgridcolor\": \"white\", \"startlinecolor\": \"#2a3f5f\"}, \"type\": \"carpet\"}], \"choropleth\": [{\"colorbar\": {\"outlinewidth\": 0, \"ticks\": \"\"}, \"type\": \"choropleth\"}], \"contour\": [{\"colorbar\": {\"outlinewidth\": 0, \"ticks\": \"\"}, \"colorscale\": [[0.0, \"#0d0887\"], [0.1111111111111111, \"#46039f\"], [0.2222222222222222, \"#7201a8\"], [0.3333333333333333, \"#9c179e\"], [0.4444444444444444, \"#bd3786\"], [0.5555555555555556, \"#d8576b\"], [0.6666666666666666, \"#ed7953\"], [0.7777777777777778, \"#fb9f3a\"], [0.8888888888888888, \"#fdca26\"], [1.0, \"#f0f921\"]], \"type\": \"contour\"}], \"contourcarpet\": [{\"colorbar\": {\"outlinewidth\": 0, \"ticks\": \"\"}, \"type\": \"contourcarpet\"}], \"heatmap\": [{\"colorbar\": {\"outlinewidth\": 0, \"ticks\": \"\"}, \"colorscale\": [[0.0, \"#0d0887\"], [0.1111111111111111, \"#46039f\"], [0.2222222222222222, \"#7201a8\"], [0.3333333333333333, \"#9c179e\"], [0.4444444444444444, \"#bd3786\"], [0.5555555555555556, \"#d8576b\"], [0.6666666666666666, \"#ed7953\"], [0.7777777777777778, \"#fb9f3a\"], [0.8888888888888888, \"#fdca26\"], [1.0, \"#f0f921\"]], \"type\": \"heatmap\"}], \"heatmapgl\": [{\"colorbar\": {\"outlinewidth\": 0, \"ticks\": \"\"}, \"colorscale\": [[0.0, \"#0d0887\"], [0.1111111111111111, \"#46039f\"], [0.2222222222222222, \"#7201a8\"], [0.3333333333333333, \"#9c179e\"], [0.4444444444444444, \"#bd3786\"], [0.5555555555555556, \"#d8576b\"], [0.6666666666666666, \"#ed7953\"], [0.7777777777777778, \"#fb9f3a\"], [0.8888888888888888, \"#fdca26\"], [1.0, \"#f0f921\"]], \"type\": \"heatmapgl\"}], \"histogram\": [{\"marker\": {\"colorbar\": {\"outlinewidth\": 0, \"ticks\": \"\"}}, \"type\": \"histogram\"}], \"histogram2d\": [{\"colorbar\": {\"outlinewidth\": 0, \"ticks\": \"\"}, \"colorscale\": [[0.0, \"#0d0887\"], [0.1111111111111111, \"#46039f\"], [0.2222222222222222, \"#7201a8\"], [0.3333333333333333, \"#9c179e\"], [0.4444444444444444, \"#bd3786\"], [0.5555555555555556, \"#d8576b\"], [0.6666666666666666, \"#ed7953\"], [0.7777777777777778, \"#fb9f3a\"], [0.8888888888888888, \"#fdca26\"], [1.0, \"#f0f921\"]], \"type\": \"histogram2d\"}], \"histogram2dcontour\": [{\"colorbar\": {\"outlinewidth\": 0, \"ticks\": \"\"}, \"colorscale\": [[0.0, \"#0d0887\"], [0.1111111111111111, \"#46039f\"], [0.2222222222222222, \"#7201a8\"], [0.3333333333333333, \"#9c179e\"], [0.4444444444444444, \"#bd3786\"], [0.5555555555555556, \"#d8576b\"], [0.6666666666666666, \"#ed7953\"], [0.7777777777777778, \"#fb9f3a\"], [0.8888888888888888, \"#fdca26\"], [1.0, \"#f0f921\"]], \"type\": \"histogram2dcontour\"}], \"mesh3d\": [{\"colorbar\": {\"outlinewidth\": 0, \"ticks\": \"\"}, \"type\": \"mesh3d\"}], \"parcoords\": [{\"line\": {\"colorbar\": {\"outlinewidth\": 0, \"ticks\": \"\"}}, \"type\": \"parcoords\"}], \"pie\": [{\"automargin\": true, \"type\": \"pie\"}], \"scatter\": [{\"marker\": {\"colorbar\": {\"outlinewidth\": 0, \"ticks\": \"\"}}, \"type\": \"scatter\"}], \"scatter3d\": [{\"line\": {\"colorbar\": {\"outlinewidth\": 0, \"ticks\": \"\"}}, \"marker\": {\"colorbar\": {\"outlinewidth\": 0, \"ticks\": \"\"}}, \"type\": \"scatter3d\"}], \"scattercarpet\": [{\"marker\": {\"colorbar\": {\"outlinewidth\": 0, \"ticks\": \"\"}}, \"type\": \"scattercarpet\"}], \"scattergeo\": [{\"marker\": {\"colorbar\": {\"outlinewidth\": 0, \"ticks\": \"\"}}, \"type\": \"scattergeo\"}], \"scattergl\": [{\"marker\": {\"colorbar\": {\"outlinewidth\": 0, \"ticks\": \"\"}}, \"type\": \"scattergl\"}], \"scattermapbox\": [{\"marker\": {\"colorbar\": {\"outlinewidth\": 0, \"ticks\": \"\"}}, \"type\": \"scattermapbox\"}], \"scatterpolar\": [{\"marker\": {\"colorbar\": {\"outlinewidth\": 0, \"ticks\": \"\"}}, \"type\": \"scatterpolar\"}], \"scatterpolargl\": [{\"marker\": {\"colorbar\": {\"outlinewidth\": 0, \"ticks\": \"\"}}, \"type\": \"scatterpolargl\"}], \"scatterternary\": [{\"marker\": {\"colorbar\": {\"outlinewidth\": 0, \"ticks\": \"\"}}, \"type\": \"scatterternary\"}], \"surface\": [{\"colorbar\": {\"outlinewidth\": 0, \"ticks\": \"\"}, \"colorscale\": [[0.0, \"#0d0887\"], [0.1111111111111111, \"#46039f\"], [0.2222222222222222, \"#7201a8\"], [0.3333333333333333, \"#9c179e\"], [0.4444444444444444, \"#bd3786\"], [0.5555555555555556, \"#d8576b\"], [0.6666666666666666, \"#ed7953\"], [0.7777777777777778, \"#fb9f3a\"], [0.8888888888888888, \"#fdca26\"], [1.0, \"#f0f921\"]], \"type\": \"surface\"}], \"table\": [{\"cells\": {\"fill\": {\"color\": \"#EBF0F8\"}, \"line\": {\"color\": \"white\"}}, \"header\": {\"fill\": {\"color\": \"#C8D4E3\"}, \"line\": {\"color\": \"white\"}}, \"type\": \"table\"}]}, \"layout\": {\"annotationdefaults\": {\"arrowcolor\": \"#2a3f5f\", \"arrowhead\": 0, \"arrowwidth\": 1}, \"coloraxis\": {\"colorbar\": {\"outlinewidth\": 0, \"ticks\": \"\"}}, \"colorscale\": {\"diverging\": [[0, \"#8e0152\"], [0.1, \"#c51b7d\"], [0.2, \"#de77ae\"], [0.3, \"#f1b6da\"], [0.4, \"#fde0ef\"], [0.5, \"#f7f7f7\"], [0.6, \"#e6f5d0\"], [0.7, \"#b8e186\"], [0.8, \"#7fbc41\"], [0.9, \"#4d9221\"], [1, \"#276419\"]], \"sequential\": [[0.0, \"#0d0887\"], [0.1111111111111111, \"#46039f\"], [0.2222222222222222, \"#7201a8\"], [0.3333333333333333, \"#9c179e\"], [0.4444444444444444, \"#bd3786\"], [0.5555555555555556, \"#d8576b\"], [0.6666666666666666, \"#ed7953\"], [0.7777777777777778, \"#fb9f3a\"], [0.8888888888888888, \"#fdca26\"], [1.0, \"#f0f921\"]], \"sequentialminus\": [[0.0, \"#0d0887\"], [0.1111111111111111, \"#46039f\"], [0.2222222222222222, \"#7201a8\"], [0.3333333333333333, \"#9c179e\"], [0.4444444444444444, \"#bd3786\"], [0.5555555555555556, \"#d8576b\"], [0.6666666666666666, \"#ed7953\"], [0.7777777777777778, \"#fb9f3a\"], [0.8888888888888888, \"#fdca26\"], [1.0, \"#f0f921\"]]}, \"colorway\": [\"#636efa\", \"#EF553B\", \"#00cc96\", \"#ab63fa\", \"#FFA15A\", \"#19d3f3\", \"#FF6692\", \"#B6E880\", \"#FF97FF\", \"#FECB52\"], \"font\": {\"color\": \"#2a3f5f\"}, \"geo\": {\"bgcolor\": \"white\", \"lakecolor\": \"white\", \"landcolor\": \"#E5ECF6\", \"showlakes\": true, \"showland\": true, \"subunitcolor\": \"white\"}, \"hoverlabel\": {\"align\": \"left\"}, \"hovermode\": \"closest\", \"mapbox\": {\"style\": \"light\"}, \"paper_bgcolor\": \"white\", \"plot_bgcolor\": \"#E5ECF6\", \"polar\": {\"angularaxis\": {\"gridcolor\": \"white\", \"linecolor\": \"white\", \"ticks\": \"\"}, \"bgcolor\": \"#E5ECF6\", \"radialaxis\": {\"gridcolor\": \"white\", \"linecolor\": \"white\", \"ticks\": \"\"}}, \"scene\": {\"xaxis\": {\"backgroundcolor\": \"#E5ECF6\", \"gridcolor\": \"white\", \"gridwidth\": 2, \"linecolor\": \"white\", \"showbackground\": true, \"ticks\": \"\", \"zerolinecolor\": \"white\"}, \"yaxis\": {\"backgroundcolor\": \"#E5ECF6\", \"gridcolor\": \"white\", \"gridwidth\": 2, \"linecolor\": \"white\", \"showbackground\": true, \"ticks\": \"\", \"zerolinecolor\": \"white\"}, \"zaxis\": {\"backgroundcolor\": \"#E5ECF6\", \"gridcolor\": \"white\", \"gridwidth\": 2, \"linecolor\": \"white\", \"showbackground\": true, \"ticks\": \"\", \"zerolinecolor\": \"white\"}}, \"shapedefaults\": {\"line\": {\"color\": \"#2a3f5f\"}}, \"ternary\": {\"aaxis\": {\"gridcolor\": \"white\", \"linecolor\": \"white\", \"ticks\": \"\"}, \"baxis\": {\"gridcolor\": \"white\", \"linecolor\": \"white\", \"ticks\": \"\"}, \"bgcolor\": \"#E5ECF6\", \"caxis\": {\"gridcolor\": \"white\", \"linecolor\": \"white\", \"ticks\": \"\"}}, \"title\": {\"x\": 0.05}, \"xaxis\": {\"automargin\": true, \"gridcolor\": \"white\", \"linecolor\": \"white\", \"ticks\": \"\", \"title\": {\"standoff\": 15}, \"zerolinecolor\": \"white\", \"zerolinewidth\": 2}, \"yaxis\": {\"automargin\": true, \"gridcolor\": \"white\", \"linecolor\": \"white\", \"ticks\": \"\", \"title\": {\"standoff\": 15}, \"zerolinecolor\": \"white\", \"zerolinewidth\": 2}}}, \"xaxis\": {\"anchor\": \"y\", \"domain\": [0.0, 1.0], \"title\": {\"text\": \"k\"}}, \"yaxis\": {\"anchor\": \"x\", \"domain\": [0.0, 1.0], \"title\": {\"text\": \"coherence\"}}},\n",
              "                        {\"responsive\": true}\n",
              "                    ).then(function(){\n",
              "                            \n",
              "var gd = document.getElementById('529e375c-b20b-421a-a86b-247a19604911');\n",
              "var x = new MutationObserver(function (mutations, observer) {{\n",
              "        var display = window.getComputedStyle(gd).display;\n",
              "        if (!display || display === 'none') {{\n",
              "            console.log([gd, 'removed!']);\n",
              "            Plotly.purge(gd);\n",
              "            observer.disconnect();\n",
              "        }}\n",
              "}});\n",
              "\n",
              "// Listen for the removal of the full notebook cells\n",
              "var notebookContainer = gd.closest('#notebook-container');\n",
              "if (notebookContainer) {{\n",
              "    x.observe(notebookContainer, {childList: true});\n",
              "}}\n",
              "\n",
              "// Listen for the clearing of the current output cell\n",
              "var outputEl = gd.closest('.output');\n",
              "if (outputEl) {{\n",
              "    x.observe(outputEl, {childList: true});\n",
              "}}\n",
              "\n",
              "                        })\n",
              "                };\n",
              "                \n",
              "            </script>\n",
              "        </div>\n",
              "</body>\n",
              "</html>"
            ]
          },
          "metadata": {
            "tags": []
          }
        }
      ]
    },
    {
      "cell_type": "markdown",
      "metadata": {
        "id": "rfh4fbxgRZJv"
      },
      "source": [
        "### The best model we can get for k=20 according to topic-coherence."
      ]
    },
    {
      "cell_type": "markdown",
      "metadata": {
        "id": "gUHk2SQsRkl7"
      },
      "source": [
        "# Save model and data files"
      ]
    },
    {
      "cell_type": "code",
      "metadata": {
        "id": "JTGWQe9hHOz_"
      },
      "source": [
        "mallet_lda_model = LdaMallet(mallet_path, corpus = corpus, id2word= dictionary, \n",
        "                        num_topics = best_k, iterations = NUM_ITERATIONS, prefix = PATH+'/lda/', random_seed=RANDOM_SEED)"
      ],
      "execution_count": null,
      "outputs": []
    },
    {
      "cell_type": "code",
      "metadata": {
        "id": "fvOOSJtbOesg"
      },
      "source": [
        "with open(PATH+'/lda/saved/mallet_lda.model', 'wb') as file:\n",
        "    pickle.dump(mallet_lda_model, file)"
      ],
      "execution_count": null,
      "outputs": []
    },
    {
      "cell_type": "code",
      "metadata": {
        "id": "4aSCayjfTtxu"
      },
      "source": [
        "gensimmodel = gensim.models.wrappers.ldamallet.malletmodel2ldamodel(mallet_lda_model)"
      ],
      "execution_count": null,
      "outputs": []
    },
    {
      "cell_type": "code",
      "metadata": {
        "id": "NrBmSwULTv3F"
      },
      "source": [
        "with open(PATH+'/lda/saved/gensim.model', 'wb') as file:\n",
        "    pickle.dump(gensimmodel, file)"
      ],
      "execution_count": null,
      "outputs": []
    },
    {
      "cell_type": "code",
      "metadata": {
        "id": "PGVSns3rO1Vy"
      },
      "source": [
        "with open(PATH+'/lda/saved/courpus.corp', 'wb') as file:\n",
        "    pickle.dump(corpus, file)"
      ],
      "execution_count": null,
      "outputs": []
    },
    {
      "cell_type": "code",
      "metadata": {
        "id": "hRalIThYO31v"
      },
      "source": [
        "with open(PATH+'/lda/saved/dictionary.dict', 'wb') as file:\n",
        "    pickle.dump(dictionary, file)"
      ],
      "execution_count": null,
      "outputs": []
    },
    {
      "cell_type": "code",
      "metadata": {
        "id": "iJpnPGezO7Hm"
      },
      "source": [
        "with open(PATH+'/lda/saved/data.pkl', 'wb') as file:\n",
        "    pickle.dump(df_processed_data, file)"
      ],
      "execution_count": null,
      "outputs": []
    }
  ]
}